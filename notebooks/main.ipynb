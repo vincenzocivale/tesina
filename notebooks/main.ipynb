{
 "cells": [
  {
   "cell_type": "code",
   "execution_count": 2,
   "metadata": {},
   "outputs": [],
   "source": [
    "import sys\n",
    "import os\n",
    "\n",
    "sys.path.append(os.path.abspath(os.path.join('..')))"
   ]
  },
  {
   "cell_type": "code",
   "execution_count": 5,
   "metadata": {},
   "outputs": [
    {
     "name": "stdout",
     "output_type": "stream",
     "text": [
      "Index(['PatientID', 'SignalID', 'Group', 't0', 't1', 't2', 'a0', 'a1', 'a2',\n",
      "       'b0', 'b1', 'b2', 'c0', 'c1', 'c2', 'dicnotch', 'winSys', 'maxAmpl',\n",
      "       'sysTime', 'duration', 'R2_of_fit', 'Es', 'As', 'Ed', 'Ad', 'td', 'fd',\n",
      "       'pulse_index'],\n",
      "      dtype='object')\n"
     ]
    }
   ],
   "source": [
    "import src.data.organize_data as od\n",
    "\n",
    "features_list = ['t0', 't1', 't2', 'a0', 'a1', 'a2', 'b0', 'b1', 'b2', 'c0', 'c1', 'c2', 'dicnotch', 'winSys', 'maxAmpl', 'sysTime', 'duration',  'Es', 'As', 'Ed', 'Ad', 'td', 'fd', 'R2_of_fit']\n",
<<<<<<< HEAD
    "\n",
    "feature_df = od.organize_data(r'C:\\Users\\cical\\Documents\\GitHub\\Repositories\\tesina_modelli\\data\\interim\\feature_extracted_2')"
=======
    "feature_data_path  = r\"C:\\Users\\cical\\Documents\\GitHub\\Repositories\\tesina\\data\\interim\\feature_extracted\"\n",
    "\n",
    "feature_df = od.organize_data2(feature_data_path, features_list)"
>>>>>>> parent of 23fd83b (refactoring data organization functions)
   ]
  },
  {
   "cell_type": "markdown",
   "metadata": {},
   "source": [
    "# Data Pre-Processing"
   ]
  },
  {
   "cell_type": "markdown",
   "metadata": {},
   "source": [
    "## Split Dataset"
   ]
  },
  {
   "cell_type": "code",
   "execution_count": 6,
   "metadata": {},
   "outputs": [],
   "source": [
    "import src.data.organize_data as od\n",
    "\n",
    "X_train, X_test, y_train, y_test = od.split_train_test(feature_df, 'Group', 0.2)"
   ]
  },
  {
   "cell_type": "markdown",
   "metadata": {},
   "source": [
    "## Data selection (outliers and p-value)"
   ]
  },
  {
   "cell_type": "code",
   "execution_count": 7,
   "metadata": {},
   "outputs": [
    {
     "name": "stderr",
     "output_type": "stream",
     "text": [
      "INFO:root:Removed 698 rows for label covid_Empoli_60\n",
      "INFO:root:Removed 989 rows for label healthyControl_Empoli_60\n",
      "INFO:root:Removed 2058 rows for label mentalDisorders_MIMIC_125\n",
      "INFO:root:Removed 3458 rows for label sepsis_MIMIC_125\n"
     ]
    }
   ],
   "source": [
    "import src.data.data_selection as ds\n",
    "\n",
    "X_train, y_train = ds.filter_outliers_by_group(X_train, y_train, features_to_ignore=['PatientID', 'SignalID', 'R2_of_fit', 'pulse_index'])\n",
    "\n",
    "X_train, y_train = ds.filter_fit_value(X_train, y_train, 0.9, 'R2_of_fit')"
   ]
  },
  {
   "cell_type": "markdown",
   "metadata": {},
   "source": [
    "## Data Trasformation"
   ]
  },
  {
   "cell_type": "markdown",
   "metadata": {},
   "source": [
    "### Patient median"
   ]
  },
  {
   "cell_type": "code",
   "execution_count": 8,
   "metadata": {},
   "outputs": [
    {
     "ename": "NameError",
     "evalue": "name 'features_list' is not defined",
     "output_type": "error",
     "traceback": [
      "\u001b[1;31m---------------------------------------------------------------------------\u001b[0m",
      "\u001b[1;31mNameError\u001b[0m                                 Traceback (most recent call last)",
      "Cell \u001b[1;32mIn[8], line 3\u001b[0m\n\u001b[0;32m      1\u001b[0m \u001b[38;5;28;01mimport\u001b[39;00m \u001b[38;5;21;01msrc\u001b[39;00m\u001b[38;5;21;01m.\u001b[39;00m\u001b[38;5;21;01mdata\u001b[39;00m\u001b[38;5;21;01m.\u001b[39;00m\u001b[38;5;21;01mdata_preprocessing\u001b[39;00m \u001b[38;5;28;01mas\u001b[39;00m \u001b[38;5;21;01mdp\u001b[39;00m\n\u001b[1;32m----> 3\u001b[0m X_train, y_train \u001b[38;5;241m=\u001b[39m dp\u001b[38;5;241m.\u001b[39mcalculate_patient_median(X_train, y_train, \u001b[38;5;124m'\u001b[39m\u001b[38;5;124mPatienID\u001b[39m\u001b[38;5;124m'\u001b[39m, \u001b[43mfeatures_list\u001b[49m)\n\u001b[0;32m      4\u001b[0m X_test, y_test \u001b[38;5;241m=\u001b[39m dp\u001b[38;5;241m.\u001b[39mcalculate_patient_median(X_test, y_test, \u001b[38;5;124m'\u001b[39m\u001b[38;5;124mPatienID\u001b[39m\u001b[38;5;124m'\u001b[39m, features_list)\n\u001b[0;32m      7\u001b[0m X_train\u001b[38;5;241m.\u001b[39mdrop(columns\u001b[38;5;241m=\u001b[39m[\u001b[38;5;124m'\u001b[39m\u001b[38;5;124mPatienID\u001b[39m\u001b[38;5;124m'\u001b[39m,  \u001b[38;5;124m'\u001b[39m\u001b[38;5;124mR2_of_fit\u001b[39m\u001b[38;5;124m'\u001b[39m], inplace\u001b[38;5;241m=\u001b[39m\u001b[38;5;28;01mTrue\u001b[39;00m)\n",
      "\u001b[1;31mNameError\u001b[0m: name 'features_list' is not defined"
     ]
    }
   ],
   "source": [
    "import src.data.data_preprocessing as dp\n",
    "\n",
    "X_train, y_train = dp.calculate_patient_median(X_train, y_train, 'SignalID', features_list)\n",
    "X_test, y_test = dp.calculate_patient_median(X_test, y_test, 'SignalID', features_list)\n",
    "\n",
    "\n",
    "X_train.drop(columns=['SignalID',  'R2_of_fit'], inplace=True)\n",
    "X_test.drop(columns=['SignalID',   'R2_of_fit'], inplace=True)"
   ]
  },
  {
   "cell_type": "markdown",
   "metadata": {},
   "source": [
    "### SMOTE+EEN"
   ]
  },
  {
   "cell_type": "code",
   "execution_count": null,
   "metadata": {},
   "outputs": [],
   "source": [
    "import src.data.data_preprocessing as dp\n",
    "import src.visualization.visualize as vis\n",
    "\n",
    "#vis.plot_class_distribution(y_train, title=\"Distribution before SMOTEEN\")\n",
    "\n",
    "#X_train, y_train = dp.balance_dataset(X_train, y_train)\n",
    "\n",
    "#vis.plot_class_distribution(y_train, title=\"Distribution after SMOTEEN\")"
   ]
  },
  {
   "cell_type": "markdown",
   "metadata": {},
   "source": [
    "### Scaling\n"
   ]
  },
  {
   "cell_type": "code",
   "execution_count": null,
   "metadata": {},
   "outputs": [],
   "source": [
    "import src.data.data_preprocessing as dp\n",
    "import src.visualization.visualize as vis\n",
    "\n",
    "X_train = dp.scale_numeric_features(X_train)\n",
    "X_test = dp.scale_numeric_features(X_test)\n",
    "\n",
    "df = X_train.copy()\n",
    "df['Group'] = y_train"
   ]
  },
  {
   "cell_type": "markdown",
   "metadata": {},
   "source": [
    "# Statistical tests"
   ]
  },
  {
   "cell_type": "markdown",
   "metadata": {},
   "source": [
    "## Shapiro-Wilk test"
   ]
  },
  {
   "cell_type": "code",
   "execution_count": null,
   "metadata": {},
   "outputs": [],
   "source": [
    "import src.statistics.tests_normality as nt\n",
    "import src.visualization.visualize as vis\n",
    "\n",
    "normality_test = nt.shapiro_test(X_train, y_train)\n",
    "\n",
    "for group in normality_test['Group'].unique():\n",
    "    sub_df = normality_test[normality_test['Group'] == group]\n",
    "    vis.plot_pvalues(sub_df, group)"
   ]
  },
  {
   "cell_type": "markdown",
   "metadata": {},
   "source": [
    "## Friedman test"
   ]
  },
  {
   "cell_type": "code",
   "execution_count": null,
   "metadata": {},
   "outputs": [],
   "source": [
    "import src.statistics.tests_difference as td\n",
    "import src.visualization.visualize as vis\n",
    "\n",
    "friedman_test = td.friedman_test(X_train, y_train)\n",
    "\n",
    "vis.plot_pvalues(friedman_test, 'Friedman Test')\n"
   ]
  },
  {
   "cell_type": "markdown",
   "metadata": {},
   "source": [
    "## Post-hoc Mann-Whitney U"
   ]
  },
  {
   "cell_type": "code",
   "execution_count": null,
   "metadata": {},
   "outputs": [],
   "source": [
    "import src.statistics.tests_difference as td\n",
    "\n",
    "# valuto differenze tra gruppi per le features significative del test di Friedman\n",
    "significant_features = friedman_test[friedman_test['P-value'] < 0.05]['Feature'].tolist()\n",
    "significant_features_dict = td.pairwise_mann_whitney_test(X_train, y_train, significant_features=significant_features)"
   ]
  },
  {
   "cell_type": "code",
   "execution_count": null,
   "metadata": {},
   "outputs": [],
   "source": [
    "import src.visualization.visualize as vis\n",
    "\n",
    "for group_pair, result in significant_features_dict.items():\n",
    "    vis.plot_pvalues(result, group_pair)"
   ]
  },
  {
   "cell_type": "markdown",
   "metadata": {},
   "source": [
    "## Unified dataset"
   ]
  },
  {
   "cell_type": "markdown",
   "metadata": {},
   "source": [
    "Si cercano differenze tra il gruppo di sani (health e soggetti con disturbi mentali) e il gruppo di malati (sepsi e covid)"
   ]
  },
  {
   "cell_type": "code",
   "execution_count": null,
   "metadata": {},
   "outputs": [],
   "source": [
    "import src.statistics.tests_difference as td\n",
    "import src.visualization.visualize as vis\n",
    "\n",
    "y_train_unified = y_train.copy()\n",
    "\n",
    "# Mappa i valori della colonna 'Group' come richiesto\n",
    "mapping = {'covid_Empoli_60': \"sick\", 'sepsis_MIMIC_125': \"sick\",\n",
    "           'healthyControl_Empoli_60': \"healthy\", 'mentalDisorders_MIMIC_125': \"healthy\"}\n",
    "y_train_unified = y_train_unified.replace(mapping)\n",
    "\n",
    "unified_result = td.mann_whitney_test(X_train, y_train_unified)\n",
    "\n",
    "vis.plot_pvalues(unified_result, 'Mann-Whitney Test')"
   ]
  },
  {
   "cell_type": "markdown",
   "metadata": {},
   "source": [
    "# Training Model"
   ]
  },
  {
   "cell_type": "markdown",
   "metadata": {},
   "source": [
    "## Primo test (Health vs Ill)"
   ]
  },
  {
   "cell_type": "markdown",
   "metadata": {},
   "source": [
    "Nel primo test si cerca di addestrare un modello che permetta di identificare tra gruppo di sani (heamth and mental disorders) e patologici (covid o sepsi). \n",
    "A questo scopo vengono utilizzate le features con un valore di p-value al di sotto della soglia impostata del test di mann-Whitney per il dataset unificato."
   ]
  },
  {
   "cell_type": "code",
   "execution_count": null,
   "metadata": {},
   "outputs": [],
   "source": [
    "features_test_1 = unified_result[unified_result['P-value'] < 0.05]['Feature'].tolist()\n",
    "\n",
    "X_train_t1 = X_train[features_test_1]\n",
    "X_test_t1 = X_test[features_test_1]\n",
    "\n",
    "y_train_t1 = y_train.map({'covid_Empoli_60': 'ill', 'sepsis_MIMIC_125': 'ill', \n",
    "                              'healthyControl_Empoli_60': 'health', 'mentalDisorders_MIMIC_125': 'health'})\n",
    "\n",
    "y_test_t1 = y_test.map({'covid_Empoli_60': 'ill', 'sepsis_MIMIC_125': 'ill', \n",
    "                              'healthyControl_Empoli_60': 'health', 'mentalDisorders_MIMIC_125': 'health'})"
   ]
  },
  {
   "cell_type": "markdown",
   "metadata": {},
   "source": [
    "### Cross validation"
   ]
  },
  {
   "cell_type": "markdown",
   "metadata": {},
   "source": [
    "Si effettua una cross validazione con StratifiedKFold (cv=5) e si valutano le performance dei modelli per f1_macro e il coeff. di correlazioen di Matthews. I tre modelli che presentano le prestazioni migliori veranno poi migliorati con un ottizzazione degli iperparametri."
   ]
  },
  {
   "cell_type": "code",
   "execution_count": null,
   "metadata": {},
   "outputs": [],
   "source": [
    "import src.models.model as models\n",
    "import src.models.evaluation as ev\n",
    "\n",
    "models = models.define_models()\n",
    "metric_results = ev.evaluate_models(X_train_t1, y_train_t1, models, None)"
   ]
  },
  {
   "cell_type": "code",
   "execution_count": null,
   "metadata": {},
   "outputs": [],
   "source": [
    "import src.models.evaluation as ev\n",
    "\n",
    "optimal_parameters_t1 = ev.evaluate_optimized_models(X_train_t1, y_train_t1, metric_results, metric='f1_macro')"
   ]
  },
  {
   "cell_type": "markdown",
   "metadata": {},
   "source": [
    "### Training and test fine tuned model"
   ]
  },
  {
   "cell_type": "code",
   "execution_count": null,
   "metadata": {},
   "outputs": [],
   "source": [
    "import src.models.model as md\n",
    "import src.visualization.visualize as vis\n",
    "\n",
    "trained_model_t1 = md.train_model_with_optimal_params('svm', optimal_parameters_t1, X_train_t1_reduced, y_train_t1)\n",
    "\n",
    "vis.plot_model_performance(trained_model_t1, X_test_t1_reduced, y_test_t1, 'f1-score')"
   ]
  },
  {
   "cell_type": "markdown",
   "metadata": {},
   "source": [
    "## Secondo test (ill)"
   ]
  },
  {
   "cell_type": "markdown",
   "metadata": {},
   "source": [
    "In questo caso viene addestrato un modello che deve riconoscere i pazienti affetti da covid da quelli affetti da sepsi"
   ]
  },
  {
   "cell_type": "code",
   "execution_count": null,
   "metadata": {},
   "outputs": [],
   "source": [
    "import src.data.data_selection as ds\n",
    "\n",
    "try:\n",
    "    result_statistical_ill = significant_features_dict[('covid_Empoli_60', 'sepsis_MIMIC_125')]\n",
    "except KeyError:\n",
    "    result_statistical_ill = significant_features_dict[('sepsis_MIMIC_125', 'covid_Empoli_60')]\n",
    "    \n",
    "features_test_2 = result_statistical_ill[result_statistical_ill['P-value'] < 0.05]['Feature'].tolist() \n",
    "\n",
    "#features_test_2 = list(set(unified_result[unified_result['P-value'] > 0.05]['Feature'].tolist()).intersection(features_test_2))\n",
    "\n",
    "X_train_t2 = X_train[features_test_2]\n",
    "X_test_t2 = X_test[features_test_2]\n",
    "\n",
    "# si rimuovono le righe relative ai gruppi 'healthyControl_Empoli_60' e 'mentalDisorders_MIMIC_125'\n",
    "target_values = ['covid_Empoli_60', 'sepsis_MIMIC_125']\n",
    "X_train_t2, y_train_t2 = ds.filter_rows_by_values(X_train_t2, y_train, target_values)\n",
    "X_test_t2, y_test_t2 = ds.filter_rows_by_values(X_test_t2, y_test, target_values)\n",
    "\n"
   ]
  },
  {
   "cell_type": "markdown",
   "metadata": {},
   "source": [
    "### Dimensionality Reduction"
   ]
  },
  {
   "cell_type": "code",
   "execution_count": null,
   "metadata": {},
   "outputs": [],
   "source": [
    "import src.features.dimensionality_reduction as dr\n",
    "\n",
    "X_train_t2_reduced, X_test_t2_reduced = dr.reduce_dimensionality(X_train_t2, X_test_t2, 'PCA', n_components=2)"
   ]
  },
  {
   "cell_type": "markdown",
   "metadata": {},
   "source": [
    "### Cross-validation"
   ]
  },
  {
   "cell_type": "code",
   "execution_count": null,
   "metadata": {},
   "outputs": [],
   "source": [
    "import src.models.model as models\n",
    "import src.models.evaluation as ev\n",
    "\n",
    "models = models.define_models()\n",
    "metric_results = ev.evaluate_models(X_train_t2_reduced, y_train_t2, models)\n",
    "\n",
    "ev.summarize_results(metric_results)"
   ]
  },
  {
   "cell_type": "code",
   "execution_count": null,
   "metadata": {},
   "outputs": [],
   "source": [
    "import src.models.evaluation as ev\n",
    "\n",
    "optimal_parameters_t2 = ev.evaluate_optimized_models(X_train_t2_reduced, y_train_t2, metric_results, metric='f1_macro', cv=5)"
   ]
  },
  {
   "cell_type": "markdown",
   "metadata": {},
   "source": [
    "### Training and test fine tuned model"
   ]
  },
  {
   "cell_type": "code",
   "execution_count": null,
   "metadata": {},
   "outputs": [],
   "source": [
    "import src.models.model as md\n",
    "import src.visualization.visualize as vis\n",
    "\n",
    "trained_model = md.train_model_with_optimal_params('catboost', optimal_parameters_t2, X_train_t2_reduced, y_train_t2)\n",
    "\n",
    "vis.plot_model_performance(trained_model, X_test_t2_reduced, y_test_t2, 'f1-score')"
   ]
  },
  {
   "cell_type": "markdown",
   "metadata": {},
   "source": [
    "## Test 3 (Health)"
   ]
  },
  {
   "cell_type": "markdown",
   "metadata": {},
   "source": [
    "Viene addestrato un modello con lo scopo di identificare i pazienti sani da quelli con disturbi mentali"
   ]
  },
  {
   "cell_type": "code",
   "execution_count": null,
   "metadata": {},
   "outputs": [],
   "source": [
    "import src.data.data_selection as ds\n",
    "\n",
    "result_statistical_health = significant_features_dict[('mentalDisorders_MIMIC_125', 'healthyControl_Empoli_60')]\n",
    "features_test_3 = result_statistical_health[result_statistical_health['P-value'] < 0.05]['Feature'].tolist()\n",
    "\n",
    "#features_test_3 = list(set(unified_result[unified_result['P-value'] > 0.05]['Feature'].tolist()).intersection(features_test_3))\n",
    "\n",
    "X_train_t3 = X_train[features_test_3]\n",
    "X_test_t3 = X_test[features_test_3]\n",
    "\n",
    "# si rimuovono le righe relative ai gruppi 'covid_Empoli_60' e 'sepsis_MIMIC_125'\n",
    "target_values = ['mentalDisorders_MIMIC_125', 'healthyControl_Empoli_60']\n",
    "X_train_t3, y_train_t3 = ds.filter_rows_by_values(X_train_t3, y_train, target_values)\n",
    "X_test_t3, y_test_t3 = ds.filter_rows_by_values(X_test_t3, y_test, target_values)"
   ]
  },
  {
   "cell_type": "markdown",
   "metadata": {},
   "source": [
    "### Dimensionality reduction"
   ]
  },
  {
   "cell_type": "code",
   "execution_count": null,
   "metadata": {},
   "outputs": [],
   "source": [
    "import src.features.dimensionality_reduction as dr\n",
    "\n",
    "X_train_t3_reduced, X_test_t3_reduced = dr.reduce_dimensionality(X_train_t3, X_test_t3, 'PCA', n_components=2)"
   ]
  },
  {
   "cell_type": "markdown",
   "metadata": {},
   "source": [
    "### Cross-validation"
   ]
  },
  {
   "cell_type": "code",
   "execution_count": null,
   "metadata": {},
   "outputs": [],
   "source": [
    "import src.models.model as models\n",
    "import src.models.evaluation as ev\n",
    "\n",
    "models = models.define_models()\n",
    "metric_results = ev.evaluate_models(X_train_t3_reduced, y_train_t3, models)\n",
    "\n",
    "ev.summarize_results(metric_results)"
   ]
  },
  {
   "cell_type": "code",
   "execution_count": null,
   "metadata": {},
   "outputs": [],
   "source": [
    "import src.models.evaluation as ev\n",
    "\n",
    "optimal_parameters_t3 = ev.evaluate_optimized_models(X_train_t3_reduced, y_train_t3, metric_results, metric='f1_macro', cv=5)"
   ]
  },
  {
   "cell_type": "markdown",
   "metadata": {},
   "source": [
    "### Training e test fine tuned model"
   ]
  },
  {
   "cell_type": "code",
   "execution_count": null,
   "metadata": {},
   "outputs": [],
   "source": [
    "import src.models.model as md\n",
    "import src.visualization.visualize as vis\n",
    "\n",
    "trained_model = md.train_model_with_optimal_params('mlp', optimal_parameters_t3, X_train_t3_reduced, y_train_t3)\n",
    "\n",
    "vis.plot_model_performance(trained_model, X_test_t3_reduced, y_test_t3, 'f1-score')"
   ]
  },
  {
   "cell_type": "markdown",
   "metadata": {},
   "source": [
    "## Test 4 (All)"
   ]
  },
  {
   "cell_type": "code",
   "execution_count": null,
   "metadata": {},
   "outputs": [],
   "source": [
    "features_test_4 = friedman_test[friedman_test['P-value'] < 0.05]['Feature'].tolist()\n",
    "\n",
    "X_train_t4 = X_train[features_test_4]\n",
    "X_test_t4 = X_test[features_test_4]\n",
    "\n",
    "y_train_t4 = y_train.copy()\n",
    "y_test_t4 = y_test.copy()"
   ]
  },
  {
   "cell_type": "markdown",
   "metadata": {},
   "source": [
    "### Dimensionality Reduction"
   ]
  },
  {
   "cell_type": "code",
   "execution_count": null,
   "metadata": {},
   "outputs": [],
   "source": [
    "import src.features.dimensionality_reduction as dr\n",
    "\n",
    "X_train_t4_reduced, X_test_t4_reduced = dr.reduce_dimensionality(X_train_t4, X_test_t4, 'PCA', n_components=2)"
   ]
  },
  {
   "cell_type": "markdown",
   "metadata": {},
   "source": [
    "### Cross-validation"
   ]
  },
  {
   "cell_type": "code",
   "execution_count": null,
   "metadata": {},
   "outputs": [],
   "source": [
    "import src.models.model as models\n",
    "import src.models.evaluation as ev\n",
    "\n",
    "models = models.define_models()\n",
    "metric_results = ev.evaluate_models(X_train_t4_reduced, y_train_t4, models)\n",
    "\n",
    "ev.summarize_results(metric_results)"
   ]
  },
  {
   "cell_type": "code",
   "execution_count": null,
   "metadata": {},
   "outputs": [],
   "source": [
    "import src.models.evaluation as ev\n",
    "\n",
    "optimal_parameters_t4 = ev.evaluate_optimized_models(X_train_t4_reduced, y_train_t4, metric_results, metric='f1_macro', cv=5)"
   ]
  },
  {
   "cell_type": "markdown",
   "metadata": {},
   "source": [
    "### Training and test fine tuned model"
   ]
  },
  {
   "cell_type": "code",
   "execution_count": null,
   "metadata": {},
   "outputs": [],
   "source": [
    "import src.models.model as md\n",
    "import src.visualization.visualize as vis\n",
    "\n",
    "trained_model = md.train_model_with_optimal_params('rf', optimal_parameters_t4, X_train_t4_reduced, y_train_t4)\n",
    "\n",
    "vis.plot_model_performance(trained_model, X_test_t4_reduced, y_test_t4, 'f1-score')"
   ]
  }
 ],
 "metadata": {
  "kernelspec": {
   "display_name": "venv",
   "language": "python",
   "name": "python3"
  },
  "language_info": {
   "codemirror_mode": {
    "name": "ipython",
    "version": 3
   },
   "file_extension": ".py",
   "mimetype": "text/x-python",
   "name": "python",
   "nbconvert_exporter": "python",
   "pygments_lexer": "ipython3",
   "version": "3.11.4"
  }
 },
 "nbformat": 4,
 "nbformat_minor": 2
}
